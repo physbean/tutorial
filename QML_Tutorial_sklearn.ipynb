{
 "cells": [
  {
   "cell_type": "markdown",
   "metadata": {},
   "source": [
    "# QML Tutorial 2\n",
    "\n",
    "by Anders S. Christensen and Michael S. Marshall"
   ]
  },
  {
   "cell_type": "markdown",
   "metadata": {},
   "source": [
    "This tutorial is a general introduction to kernel-ridge regression with Quantum Machine Learning (QML).\n",
    "\n",
    "QML is freely available under the terms of the MIT open-source license. However, we ask that you properly cite the relevant, underlying work in your published work (provided below).\n",
    "\n",
    "##### QML Citation: \n",
    "AS Christensen, FA Faber, B Huang, LA Bratholm, A Tkatchenko, KR Müller, OA von Lilienfeld (2017) \"QML: A Python Toolkit for Quantum Machine Learning\" https://github.com/qmlcode/qml\n",
    "\n",
    "##### Theory Citation:\n",
    "[Rupp et al, Phys Rev Letters, 2012](https://journals.aps.org/prl/abstract/10.1103/PhysRevLett.108.058301)\n",
    "\n",
    "[Montavon et al, New J Phys, 2013](http://iopscience.iop.org/article/10.1088/1367-2630/15/9/095003/meta)\n"
   ]
  },
  {
   "cell_type": "markdown",
   "metadata": {},
   "source": [
    "## Theory \n",
    "Regression model of some property, \n",
    "\n",
    "\\begin{equation*}\n",
    "y\n",
    "\\end{equation*}\n",
    "\n",
    "for some system, \n",
    "\n",
    "\\begin{equation*}\n",
    "\\widetilde{\\mathbf{X}}\n",
    "\\end{equation*}\n",
    "\n",
    "this could correspond to e.g. the atomization energy of a molecule:\n",
    "\n",
    "\\begin{equation*}\n",
    "y\\left(\\widetilde{\\mathbf{X}} \\right) = \\sum_i \\alpha_i \\  K\\left( \\widetilde{\\mathbf{X}}, \\mathbf{X}_i\\right)\n",
    "\\end{equation*}\n",
    "\n",
    "E.g. Using Gaussian kernel function with Frobenius norm:\n",
    "\n",
    "\\begin{equation*}\n",
    "K_{ij} = K\\left( \\mathbf{X}_i, \\mathbf{X}_j\\right) = \\exp\\left( -\\frac{\\| \\mathbf{X}_i - \\mathbf{X}_j\\|_2^2}{2\\sigma^2}\\right)\n",
    "\\end{equation*}\n",
    "\n",
    "Regression coefficients are obtained through kernel matrix inversion and multiplication with reference labels\n",
    "\n",
    "\\begin{equation*}\n",
    "\\boldsymbol{\\alpha} = (\\mathbf{K} + \\lambda \\mathbf{I})^{-1} \\mathbf{y}\n",
    "\\end{equation*}"
   ]
  },
  {
   "cell_type": "markdown",
   "metadata": {},
   "source": [
    "## Load QML into Jupyter Notebook"
   ]
  },
  {
   "cell_type": "code",
   "execution_count": 1,
   "metadata": {},
   "outputs": [
    {
     "name": "stdout",
     "output_type": "stream",
     "text": [
      "Printing version info for help reporting bugs\n",
      "Python version: 3.6.5 (default, Apr 26 2018, 00:14:31) \n",
      "[GCC 4.8.5 20150623 (Red Hat 4.8.5-11)]\n",
      "QML version: 0.4.0\n"
     ]
    }
   ],
   "source": [
    "from __future__ import print_function\n",
    "\n",
    "import sys\n",
    "print(\"Printing version info for help reporting bugs\")\n",
    "print(\"Python version:\", sys.version)\n",
    "\n",
    "import pandas as pd\n",
    "import seaborn as sns\n",
    "import numpy as np\n",
    "import matplotlib.pyplot as plt\n",
    "%matplotlib inline\n",
    "\n",
    "from sklearn import metrics\n",
    "from sklearn.model_selection import train_test_split\n",
    "from sklearn.kernel_ridge import KernelRidge\n",
    "\n",
    "try:\n",
    "    import qml\n",
    "    from qml.kernels import gaussian_kernel\n",
    "    from qml.kernels import laplacian_kernel\n",
    "    from qml.math import cho_solve\n",
    "    from qml.representations import get_slatm_mbtypes\n",
    "    \n",
    "    print(\"QML version:\",qml.__version__)\n",
    "except ImportError:\n",
    "    print(\"Failed to find QML\")\n",
    "    print(\"Please follow instructions here: http://www.qmlcode.org/installation.html\")"
   ]
  },
  {
   "cell_type": "markdown",
   "metadata": {},
   "source": [
    "## Tutorial exercises\n",
    "\n",
    "If you got this notebook without the repo, please clone the following GIT repository to access the necessary scripts and QM7 dataset (atomization energies and relaxed geometries at PBE0/def2-TZVP level of theory) for ~7k GDB1-7 molecules. \n",
    "[Ruddigkeit et al, J Chem Inf Model, 2012](https://pubs.acs.org/doi/abs/10.1021/ci300415d)\n",
    "[Rupp et al, Phys Rev Letters, 2012](https://journals.aps.org/prl/abstract/10.1103/PhysRevLett.108.058301)\n",
    "\n",
    "git clone https://github.com/qmlcode/tutorial.git\n",
    "\n",
    "Additionally, the repository contains Python3 scripts with the solutions to each exercise."
   ]
  },
  {
   "cell_type": "code",
   "execution_count": 2,
   "metadata": {},
   "outputs": [],
   "source": [
    "# Import QM7, already parsed to QML\n",
    "from tutorial_data import compounds\n",
    "from tutorial_data import energy_pbe0\n",
    "\n",
    "# Assume 'qm7' is a list of Compound() objects.\n",
    "mbtypes = get_slatm_mbtypes([mol.nuclear_charges for mol in compounds])\n",
    "\n",
    "\n",
    "# For every compound generate a coulomb matrix or BoB\n",
    "for mol in compounds: #can lower this if you need to via compounds[:1000] to just use first 1k molecules\n",
    "    # you can select other descriptors here\n",
    "    # full list here http://www.qmlcode.org/qml.html#module-qml.representations\n",
    "    # mol.generate_coulomb_matrix(size=23, sorting=\"row-norm\")\n",
    "    mol.generate_slatm(mbtypes, local=False)\n",
    "    # mol.generate_bob(size=23, asize={\"O\":3, \"C\":7, \"N\":3, \"H\":16, \"S\":1})"
   ]
  },
  {
   "cell_type": "markdown",
   "metadata": {},
   "source": [
    "Before we start fitting data, let us take a moment to examine the data we are working with.\n",
    "For this, we use seaborn to look at the range of values we are trying to predict"
   ]
  },
  {
   "cell_type": "code",
   "execution_count": 3,
   "metadata": {},
   "outputs": [
    {
     "data": {
      "text/plain": [
       "<matplotlib.axes._subplots.AxesSubplot at 0x7f75dc369668>"
      ]
     },
     "execution_count": 3,
     "metadata": {},
     "output_type": "execute_result"
    },
    {
     "data": {
      "image/png": "[encoded data removed]",
      "text/plain": [
       "<Figure size 432x288 with 1 Axes>"
      ]
     },
     "metadata": {},
     "output_type": "display_data"
    }
   ],
   "source": [
    "sns.kdeplot(energy_pbe0, shade=True, cut=0)"
   ]
  },
  {
   "cell_type": "markdown",
   "metadata": {},
   "source": [
    "In this section we will be using sklearn model to do\n",
    "test/train splitting of our data\n",
    "\n",
    "The example below will randomly select 33 percent of the given data\n",
    "to be used as a test, the rest will be assigned to be used as training data"
   ]
  },
  {
   "cell_type": "code",
   "execution_count": 4,
   "metadata": {
    "collapsed": true
   },
   "outputs": [],
   "source": [
    "# observable we are trying to predict\n",
    "y = energy_pbe0\n",
    "# molecular descriptor from qml\n",
    "X = np.array([mol.representation for mol in compounds]) \n",
    "\n",
    "# split our data into testing data and training data with sklearn\n",
    "X_train, X_test, y_train, y_test = train_test_split(X, y, test_size=0.33)"
   ]
  },
  {
   "cell_type": "markdown",
   "metadata": {},
   "source": [
    "With our data now in good form, we are ready to find the fitting \n",
    "parameters. We are going to use Kernel Ridge Regression as implemented\n",
    "in the sklearn package."
   ]
  },
  {
   "cell_type": "code",
   "execution_count": 5,
   "metadata": {},
   "outputs": [],
   "source": [
    "# select the kernel you wish to use for fitting\n",
    "# and any preprocessing can be done here\n",
    "# I only introduce this approach so others can play with \n",
    "# different kernels as a learning exercise\n",
    "# KRR shown here\n",
    "kernel = KernelRidge(gamma=4000) \n",
    "\n",
    "# find the fitting coeffecients\n",
    "kernel.fit(X_train, y_train)\n",
    "\n",
    "# and make predictions on test data\n",
    "predictions = kernel.predict(X_test)"
   ]
  },
  {
   "cell_type": "markdown",
   "metadata": {},
   "source": [
    "We have now predicted the energies for the test set, let us now see how well the model worked"
   ]
  },
  {
   "cell_type": "code",
   "execution_count": 6,
   "metadata": {},
   "outputs": [
    {
     "data": {
      "text/plain": [
       "<seaborn.axisgrid.FacetGrid at 0x7f75dc2b4c18>"
      ]
     },
     "execution_count": 6,
     "metadata": {},
     "output_type": "execute_result"
    },
    {
     "data": {
      "image/png": "[encoded data removed]",
      "text/plain": [
       "<Figure size 432x432 with 1 Axes>"
      ]
     },
     "metadata": {},
     "output_type": "display_data"
    }
   ],
   "source": [
    "data=pd.DataFrame(data={'Actual Energy [kcal/mol]': y_test, 'Predicted Energy [kcal/mol]': predictions})\n",
    "sns.lmplot(x=\"Actual Energy [kcal/mol]\",y=\"Predicted Energy [kcal/mol]\", truncate=True, data=data, size=6)"
   ]
  },
  {
   "cell_type": "code",
   "execution_count": 7,
   "metadata": {},
   "outputs": [
    {
     "name": "stdout",
     "output_type": "stream",
     "text": [
      "MAE: 1.2197670467978843 kcal/mol\n",
      "MSE: 3.07408431636567 kcal/mol\n",
      "RMSE: 1.7533066806368103 kcal/mol\n"
     ]
    }
   ],
   "source": [
    "print('MAE:', metrics.mean_absolute_error(y_test, predictions), \"kcal/mol\")\n",
    "print('MSE:', metrics.mean_squared_error(y_test, predictions), \"kcal/mol\")\n",
    "print('RMSE:', np.sqrt(metrics.mean_squared_error(y_test, predictions)), \"kcal/mol\")"
   ]
  },
  {
   "cell_type": "markdown",
   "metadata": {},
   "source": [
    "Now you can go back to the top and play with using different molecular descriptors, training set size, or kernels inside of QML to see how they impact performance. \n",
    "\n",
    "Enjoy!"
   ]
  }
 ],
 "metadata": {
  "anaconda-cloud": {},
  "kernelspec": {
   "display_name": "Python 3",
   "language": "python",
   "name": "python3"
  },
  "language_info": {
   "codemirror_mode": {
    "name": "ipython",
    "version": 3
   },
   "file_extension": ".py",
   "mimetype": "text/x-python",
   "name": "python",
   "nbconvert_exporter": "python",
   "pygments_lexer": "ipython3",
   "version": "3.6.5"
  }
 },
 "nbformat": 4,
 "nbformat_minor": 2
}
